{
 "cells": [
  {
   "cell_type": "code",
   "execution_count": 1,
   "metadata": {},
   "outputs": [
    {
     "data": {
      "text/plain": [
       "True"
      ]
     },
     "execution_count": 1,
     "metadata": {},
     "output_type": "execute_result"
    }
   ],
   "source": [
    "import cv2 as cv\n",
    "\n",
    "img_path = r\"C:\\Users\\maksym.kashchuk\\Desktop\\auto-os-ml\\datasets\\CuLane\\train-validation\\driver_161_90frame\\06031152_0826.MP4\\00000.jpg\"\n",
    "img = cv.imread(img_path)\n",
    "assert img is not None, \"Image file could not be read. Check the file path.\"\n",
    "\n",
    "coordinates_file = r\"C:\\Users\\maksym.kashchuk\\Desktop\\auto-os-ml\\datasets\\CuLane\\train-validation\\driver_161_90frame\\06031152_0826.MP4\\00000.lines.txt\"\n",
    "\n",
    "lines = []\n",
    "\n",
    "with open(coordinates_file, 'r') as file:\n",
    "    lines = [list(map(int, map(float, line.split()))) for line in file]\n",
    "\n",
    "r, g, b = 255, 255, 255\n",
    "\n",
    "color_list = ((255,0,0),(0,255,0),(0,0,255), (128,0,128))\n",
    "\n",
    "color_id = 0\n",
    "\n",
    "thickness = 2\n",
    "\n",
    "i = 0\n",
    "\n",
    "for line in lines:\n",
    "    i = 0\n",
    "\n",
    "    while i < len(line) - 2:\n",
    "        x1, y1 = line[i], line[i + 1]\n",
    "        x2, y2 = line[i + 2], line [i + 3]\n",
    "\n",
    "        # cv.line(img, (int(x1), int(y1)), (int(x2), int(y2)), color_list[color_id], thickness)\n",
    "\n",
    "        cv.line(img, (int(x1), int(y1)), (int(x2), int(y2)), (r, g, b), thickness)\n",
    "\n",
    "        i += 2\n",
    "\n",
    "    # color_id += 1\n",
    "\n",
    "cv.imshow(\"Image with Lines\", img)\n",
    "cv.waitKey(0)\n",
    "cv.destroyAllWindows()\n",
    "\n",
    "output_path = r\"lines.jpg\"\n",
    "cv.imwrite(output_path, img)"
   ]
  }
 ],
 "metadata": {
  "kernelspec": {
   "display_name": "auto-os",
   "language": "python",
   "name": "python3"
  },
  "language_info": {
   "codemirror_mode": {
    "name": "ipython",
    "version": 3
   },
   "file_extension": ".py",
   "mimetype": "text/x-python",
   "name": "python",
   "nbconvert_exporter": "python",
   "pygments_lexer": "ipython3",
   "version": "3.12.0"
  },
  "orig_nbformat": 4
 },
 "nbformat": 4,
 "nbformat_minor": 2
}
